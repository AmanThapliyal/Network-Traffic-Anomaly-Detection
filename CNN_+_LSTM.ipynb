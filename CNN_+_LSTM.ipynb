{
  "cells": [
    {
      "cell_type": "code",
      "source": [
        "import numpy as np\n",
        "import pandas as pd\n",
        "from sklearn.preprocessing import OneHotEncoder, StandardScaler\n",
        "from sklearn.metrics import accuracy_score, f1_score, roc_auc_score, confusion_matrix\n",
        "from tensorflow.keras.models import Sequential\n",
        "from tensorflow.keras.layers import Conv1D, MaxPooling1D, LSTM, Dense, Dropout, Flatten\n",
        "from tensorflow.keras.utils import to_categorical\n",
        "from sklearn.model_selection import train_test_split"
      ],
      "metadata": {
        "id": "xLZKvVGR1pZy"
      },
      "execution_count": null,
      "outputs": []
    },
    {
      "cell_type": "code",
      "source": [
        "train_df = pd.read_csv(\"UNSW_NB15_training-set.csv\")\n",
        "test_df = pd.read_csv(\"UNSW_NB15_testing-set.csv\")"
      ],
      "metadata": {
        "id": "a02tUZeI1s91"
      },
      "execution_count": null,
      "outputs": []
    },
    {
      "cell_type": "code",
      "source": [
        "target_col = 'label'\n",
        "categorical_cols = ['proto', 'service', 'state']\n",
        "numeric_cols = [col for col in train_df.columns if col not in categorical_cols + [target_col, 'attack_cat', 'id']]"
      ],
      "metadata": {
        "id": "wxnJetE91zoD"
      },
      "execution_count": null,
      "outputs": []
    },
    {
      "cell_type": "code",
      "source": [
        "encoder = OneHotEncoder(handle_unknown='ignore', sparse_output=False)\n",
        "X_train_cat = encoder.fit_transform(train_df[categorical_cols])\n",
        "X_test_cat = encoder.transform(test_df[categorical_cols])\n",
        "\n",
        "\n",
        "scaler = StandardScaler()\n",
        "X_train_num = scaler.fit_transform(train_df[numeric_cols])\n",
        "X_test_num = scaler.transform(test_df[numeric_cols])"
      ],
      "metadata": {
        "id": "tniYBvsJ11Ej"
      },
      "execution_count": null,
      "outputs": []
    },
    {
      "cell_type": "code",
      "source": [
        "X_train_combined = np.hstack((X_train_num, X_train_cat))\n",
        "X_test_combined = np.hstack((X_test_num, X_test_cat))\n",
        "\n",
        "\n",
        "X_train_seq = X_train_combined.reshape((X_train_combined.shape[0], X_train_combined.shape[1], 1))\n",
        "X_test_seq = X_test_combined.reshape((X_test_combined.shape[0], X_test_combined.shape[1], 1))"
      ],
      "metadata": {
        "id": "SK4zRcdm15oS"
      },
      "execution_count": null,
      "outputs": []
    },
    {
      "cell_type": "code",
      "source": [
        "y_train = train_df[target_col].values\n",
        "y_test = test_df[target_col].values"
      ],
      "metadata": {
        "id": "rju5M-iS172Y"
      },
      "execution_count": null,
      "outputs": []
    },
    {
      "cell_type": "code",
      "source": [
        "model = Sequential()\n",
        "model.add(Conv1D(filters=32, kernel_size=3, activation='relu', input_shape=(X_train_seq.shape[1], 1)))\n",
        "model.add(MaxPooling1D(pool_size=2))\n",
        "model.add(Conv1D(filters=64, kernel_size=3, activation='relu'))\n",
        "model.add(MaxPooling1D(pool_size=2))\n",
        "model.add(LSTM(units=64))\n",
        "model.add(Dropout(0.5))\n",
        "model.add(Dense(32, activation='relu'))\n",
        "model.add(Dense(1, activation='sigmoid'))\n",
        "\n",
        "model.compile(loss='binary_crossentropy', optimizer='adam', metrics=['accuracy'])\n",
        "\n",
        "\n",
        "model.fit(X_train_seq, y_train, epochs=10, batch_size=64, validation_data=(X_test_seq, y_test))"
      ],
      "metadata": {
        "id": "hCmsLpEF1-ZF",
        "outputId": "33cfd94f-8e85-4555-9801-241f8668efbf",
        "colab": {
          "base_uri": "https://localhost:8080/"
        }
      },
      "execution_count": null,
      "outputs": [
        {
          "output_type": "stream",
          "name": "stderr",
          "text": [
            "/usr/local/lib/python3.11/dist-packages/keras/src/layers/convolutional/base_conv.py:107: UserWarning: Do not pass an `input_shape`/`input_dim` argument to a layer. When using Sequential models, prefer using an `Input(shape)` object as the first layer in the model instead.\n",
            "  super().__init__(activity_regularizer=activity_regularizer, **kwargs)\n"
          ]
        },
        {
          "output_type": "stream",
          "name": "stdout",
          "text": [
            "Epoch 1/10\n",
            "\u001b[1m2740/2740\u001b[0m \u001b[32m━━━━━━━━━━━━━━━━━━━━\u001b[0m\u001b[37m\u001b[0m \u001b[1m33s\u001b[0m 10ms/step - accuracy: 0.8515 - loss: 0.3157 - val_accuracy: 0.8294 - val_loss: 0.2804\n",
            "Epoch 2/10\n",
            "\u001b[1m2740/2740\u001b[0m \u001b[32m━━━━━━━━━━━━━━━━━━━━\u001b[0m\u001b[37m\u001b[0m \u001b[1m37s\u001b[0m 10ms/step - accuracy: 0.9315 - loss: 0.1562 - val_accuracy: 0.8148 - val_loss: 0.3028\n",
            "Epoch 3/10\n",
            "\u001b[1m2740/2740\u001b[0m \u001b[32m━━━━━━━━━━━━━━━━━━━━\u001b[0m\u001b[37m\u001b[0m \u001b[1m39s\u001b[0m 9ms/step - accuracy: 0.9278 - loss: 0.1632 - val_accuracy: 0.8165 - val_loss: 0.2844\n",
            "Epoch 4/10\n",
            "\u001b[1m2740/2740\u001b[0m \u001b[32m━━━━━━━━━━━━━━━━━━━━\u001b[0m\u001b[37m\u001b[0m \u001b[1m26s\u001b[0m 10ms/step - accuracy: 0.9327 - loss: 0.1430 - val_accuracy: 0.8109 - val_loss: 0.3040\n",
            "Epoch 5/10\n",
            "\u001b[1m2740/2740\u001b[0m \u001b[32m━━━━━━━━━━━━━━━━━━━━\u001b[0m\u001b[37m\u001b[0m \u001b[1m45s\u001b[0m 11ms/step - accuracy: 0.9335 - loss: 0.1345 - val_accuracy: 0.8523 - val_loss: 0.2584\n",
            "Epoch 6/10\n",
            "\u001b[1m2740/2740\u001b[0m \u001b[32m━━━━━━━━━━━━━━━━━━━━\u001b[0m\u001b[37m\u001b[0m \u001b[1m36s\u001b[0m 9ms/step - accuracy: 0.9357 - loss: 0.1295 - val_accuracy: 0.8337 - val_loss: 0.3096\n",
            "Epoch 7/10\n",
            "\u001b[1m2740/2740\u001b[0m \u001b[32m━━━━━━━━━━━━━━━━━━━━\u001b[0m\u001b[37m\u001b[0m \u001b[1m41s\u001b[0m 9ms/step - accuracy: 0.9386 - loss: 0.1274 - val_accuracy: 0.8863 - val_loss: 0.2531\n",
            "Epoch 8/10\n",
            "\u001b[1m2740/2740\u001b[0m \u001b[32m━━━━━━━━━━━━━━━━━━━━\u001b[0m\u001b[37m\u001b[0m \u001b[1m43s\u001b[0m 10ms/step - accuracy: 0.9413 - loss: 0.1197 - val_accuracy: 0.8530 - val_loss: 0.3060\n",
            "Epoch 9/10\n",
            "\u001b[1m2740/2740\u001b[0m \u001b[32m━━━━━━━━━━━━━━━━━━━━\u001b[0m\u001b[37m\u001b[0m \u001b[1m26s\u001b[0m 10ms/step - accuracy: 0.9438 - loss: 0.1171 - val_accuracy: 0.8750 - val_loss: 0.2583\n",
            "Epoch 10/10\n",
            "\u001b[1m2740/2740\u001b[0m \u001b[32m━━━━━━━━━━━━━━━━━━━━\u001b[0m\u001b[37m\u001b[0m \u001b[1m40s\u001b[0m 9ms/step - accuracy: 0.9429 - loss: 0.1183 - val_accuracy: 0.8711 - val_loss: 0.2403\n"
          ]
        },
        {
          "output_type": "execute_result",
          "data": {
            "text/plain": [
              "<keras.src.callbacks.history.History at 0x7bb377109690>"
            ]
          },
          "metadata": {},
          "execution_count": 8
        }
      ]
    },
    {
      "cell_type": "code",
      "source": [
        "y_pred_probs = model.predict(X_test_seq).ravel()\n",
        "y_pred = (y_pred_probs > 0.5).astype(int)\n",
        "\n",
        "acc = accuracy_score(y_test, y_pred)\n",
        "f1 = f1_score(y_test, y_pred)\n",
        "roc = roc_auc_score(y_test, y_pred_probs)\n",
        "\n",
        "cm = confusion_matrix(y_test, y_pred)\n",
        "tn, fp, fn, tp = cm.ravel()\n",
        "fpr = fp / (fp + tn + 1e-6)\n",
        "fnr = fn / (fn + tp + 1e-6)"
      ],
      "metadata": {
        "id": "d-L4QeeK9bee",
        "colab": {
          "base_uri": "https://localhost:8080/"
        },
        "outputId": "581e0a77-9d11-49f2-c416-ce968ff34b81"
      },
      "execution_count": null,
      "outputs": [
        {
          "output_type": "stream",
          "name": "stdout",
          "text": [
            "\u001b[1m2573/2573\u001b[0m \u001b[32m━━━━━━━━━━━━━━━━━━━━\u001b[0m\u001b[37m\u001b[0m \u001b[1m7s\u001b[0m 3ms/step\n"
          ]
        }
      ]
    },
    {
      "cell_type": "code",
      "source": [
        "print(f\"Accuracy     : {acc:.4f}\")\n",
        "print(f\"F1-Score     : {f1:.4f}\")\n",
        "print(f\"ROC-AUC      : {roc:.4f}\")\n",
        "print(f\"False Pos Rate (FPR): {fpr:.4f}\")\n",
        "print(f\"False Neg Rate (FNR): {fnr:.4f}\")"
      ],
      "metadata": {
        "id": "dZ7ZNgPT94qG",
        "outputId": "9836c2f0-99a3-4000-923b-64ab55ebe8df",
        "colab": {
          "base_uri": "https://localhost:8080/"
        }
      },
      "execution_count": null,
      "outputs": [
        {
          "output_type": "stream",
          "name": "stdout",
          "text": [
            "Accuracy     : 0.8711\n",
            "F1-Score     : 0.8939\n",
            "ROC-AUC      : 0.9771\n",
            "False Pos Rate (FPR): 0.2701\n",
            "False Neg Rate (FNR): 0.0136\n"
          ]
        }
      ]
    },
    {
      "cell_type": "code",
      "source": [],
      "metadata": {
        "id": "Pu4hvaru_Pdp"
      },
      "execution_count": null,
      "outputs": []
    }
  ],
  "metadata": {
    "colab": {
      "provenance": [],
      "gpuType": "T4"
    },
    "kernelspec": {
      "display_name": "Python 3",
      "name": "python3"
    },
    "accelerator": "GPU"
  },
  "nbformat": 4,
  "nbformat_minor": 0
}